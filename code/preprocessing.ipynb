{
 "cells": [
  {
   "cell_type": "code",
   "execution_count": 18,
   "metadata": {},
   "outputs": [
    {
     "name": "stdout",
     "output_type": "stream",
     "text": [
      "Processing: eng\n",
      "Processing: spa\n",
      "Processing: cat\n",
      "Processing: ara\n",
      "Processing: ind\n",
      "Processing: tur\n",
      "Processing: zho\n",
      "Processing: tam\n",
      "Processing: eus\n"
     ]
    }
   ],
   "source": [
    "import os\n",
    "import pandas as pd\n",
    "import numpy as np\n",
    "\n",
    "language_data= pd.read_csv(\"../data/languages.csv\", sep=\";\")\n",
    "\n",
    "sources_data = {} \n",
    "for _, row in language_data.iterrows():\n",
    "    code = row[\"Code\"]\n",
    "    sources_data[code] = {}\n",
    "\n",
    "    file_path_cv = f\"../data/cv/{code}-word.csv\"\n",
    "    if os.path.exists(file_path_cv):\n",
    "        sources_data[code][\"cv\"] = pd.read_csv(file_path_cv)\n",
    "\n",
    "    file_path_pud = f\"../data/pud/{code}_pud.csv\"\n",
    "    if os.path.exists(file_path_pud):\n",
    "        sources_data[code][\"pud\"] = pd.read_csv(file_path_pud)\n",
    "    \n",
    "    file_path_pud_pinyin = f\"../data/pud/{code}_pud_pinyin.csv\"\n",
    "    if os.path.exists(file_path_pud_pinyin):\n",
    "        sources_data[code][\"pud_pinyin\"] = pd.read_csv(file_path_pud_pinyin)\n",
    "    \n",
    "    file_path_pud_strokes = f\"../data/pud/{code}_pud_strokes.csv\"\n",
    "    if os.path.exists(file_path_pud_strokes):\n",
    "        sources_data[code][\"pud_strokes\"] = pd.read_csv(file_path_pud_strokes)\n",
    "\n",
    "def preprocess_cv(code, data):\n",
    "    processed_data = pd.DataFrame() \n",
    "\n",
    "    total_frequency = data['frequency'].sum()\n",
    "\n",
    "    processed_data['Word'] = data['word']\n",
    "    processed_data['Length of characters'] = data['n_characters']\n",
    "    processed_data['Median duration'] = data['medianDuration']\n",
    "    processed_data['Frequency rank'] = data['frequency'].rank(method='max', ascending=False).astype(int)\n",
    "    processed_data['Relative frequency'] = data['frequency'] / total_frequency\n",
    "\n",
    "    processed_data = processed_data.sort_values(by='Frequency rank', ascending=True)\n",
    "\n",
    "    processed_data.to_csv(f\"../data/preprocessed/{code}_cv.csv\", index=False)\n",
    "\n",
    "def preprocess_pud(code, data):\n",
    "    processed_data = pd.DataFrame() \n",
    "\n",
    "    total_frequency = data['frequency'].sum()\n",
    "\n",
    "    processed_data['Word'] = data['word']\n",
    "    processed_data['Length of characters'] = data['n_characters']\n",
    "    processed_data['Frequency rank'] = data['frequency'].rank(method='max', ascending=False).astype(int)\n",
    "    processed_data['Relative frequency'] = data['frequency'] / total_frequency\n",
    "\n",
    "    processed_data = processed_data.sort_values(by='Frequency rank', ascending=True)\n",
    "\n",
    "    processed_data.to_csv(f\"../data/preprocessed/{code}_pud.csv\", index=False)\n",
    "\n",
    "for code, sources in sources_data.items():\n",
    "    print(f\"Processing: {code}\")\n",
    "    for source, data in sources.items():\n",
    "        if source == \"cv\":\n",
    "            preprocess_cv(code, data)\n",
    "        elif source.startswith(\"pud\"):\n",
    "            pud_code = code\n",
    "            if source != \"pud\":\n",
    "                pud_code = f\"{code}_{source.replace('pud_', '')}\"\n",
    "            preprocess_pud(pud_code, data)\n"
   ]
  }
 ],
 "metadata": {
  "kernelspec": {
   "display_name": ".venv",
   "language": "python",
   "name": "python3"
  },
  "language_info": {
   "codemirror_mode": {
    "name": "ipython",
    "version": 3
   },
   "file_extension": ".py",
   "mimetype": "text/x-python",
   "name": "python",
   "nbconvert_exporter": "python",
   "pygments_lexer": "ipython3",
   "version": "3.12.3"
  }
 },
 "nbformat": 4,
 "nbformat_minor": 2
}
